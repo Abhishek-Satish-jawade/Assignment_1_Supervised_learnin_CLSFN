{
  "nbformat": 4,
  "nbformat_minor": 0,
  "metadata": {
    "colab": {
      "provenance": []
    },
    "kernelspec": {
      "name": "python3",
      "display_name": "Python 3"
    },
    "language_info": {
      "name": "python"
    }
  },
  "cells": [
    {
      "cell_type": "markdown",
      "source": [
        "#**Name** - Abhishek Jawade\n",
        "#**Email ID** - abhishek.jawade@mitaoe.ac.in\n",
        "#**2nd Level Preference** - Machine Learning"
      ],
      "metadata": {
        "id": "WC3NJqGcwtMh"
      }
    },
    {
      "cell_type": "markdown",
      "source": [
        "#Git Hub Link = https://github.com/Abhishek-Satish-jawade/Assignment_1_Supervised_learnin_CLSFN.git"
      ],
      "metadata": {
        "id": "eAo6WhFF16-K"
      }
    },
    {
      "cell_type": "markdown",
      "source": [
        "#**Problem Statement** - Implement the Naive Bayes and K-Nearest Neighbours algorithms from scratch in Python using Numpy and Pandas and Matplotlib for visualization."
      ],
      "metadata": {
        "id": "hRfRy7w4xBY3"
      }
    },
    {
      "cell_type": "markdown",
      "source": [
        "#The Code is written and compiled in Google Colab \n",
        "#**Python Version - 3.9**"
      ],
      "metadata": {
        "id": "JsUfIRSuxXEr"
      }
    },
    {
      "cell_type": "markdown",
      "source": [
        "# 1.Import all necessary files"
      ],
      "metadata": {
        "id": "oHsSNUzQxREx"
      }
    },
    {
      "cell_type": "code",
      "source": [
        "#The libraries are saved as their alias names for easier function calling.\n",
        "import pandas as pd \n",
        "import numpy as np\n",
        "import matplotlib.pyplot as plt"
      ],
      "metadata": {
        "id": "wXp9TVPAyRWG"
      },
      "execution_count": 157,
      "outputs": []
    },
    {
      "cell_type": "markdown",
      "source": [
        "#2. Import the dataset"
      ],
      "metadata": {
        "id": "JLtNECeYysIf"
      }
    },
    {
      "cell_type": "code",
      "source": [
        "#The datasets are stored in colab's runtime if executed the code on different machine make sure that files are uploaded properly.\n",
        "train_df = pd.read_csv(r'/content/train.csv')\n",
        "test_df = pd.read_csv(r'/content/test.csv')"
      ],
      "metadata": {
        "id": "Fpbrpxc2ymdy"
      },
      "execution_count": 158,
      "outputs": []
    },
    {
      "cell_type": "markdown",
      "source": [
        "#3.1 Data PreProcessing - Shape Visualization"
      ],
      "metadata": {
        "id": "t0BpfDQ4z8ot"
      }
    },
    {
      "cell_type": "code",
      "source": [
        "# Print the shape of the training dataset\n",
        "print(\"The shape of training dataset is \", train_df.shape, \"rows x columns\")\n",
        "\n",
        "# Print the shape of the testing dataset\n",
        "print(\"The shape of testing dataset is \", test_df.shape, \"rows x columns\")\n"
      ],
      "metadata": {
        "colab": {
          "base_uri": "https://localhost:8080/"
        },
        "id": "OOtteMcc0vde",
        "outputId": "f76609da-779a-4530-e45d-47cb7e0f10cb"
      },
      "execution_count": 159,
      "outputs": [
        {
          "output_type": "stream",
          "name": "stdout",
          "text": [
            "The shape of training dataset is  (891, 12) rows x columns\n",
            "The shape of testing dataset is  (418, 11) rows x columns\n"
          ]
        }
      ]
    },
    {
      "cell_type": "markdown",
      "source": [
        "#3.2 Data Preprocessing - Missing Values Treatment"
      ],
      "metadata": {
        "id": "tJnsRbeq1MNl"
      }
    },
    {
      "cell_type": "code",
      "source": [
        "full_dataset = pd.concat((train_df, test_df), sort = False) #append the testing dataset to training dataset\n",
        "full_dataset.drop('PassengerId', axis =1, inplace = True) #drop the passenger ID as it is of no use."
      ],
      "metadata": {
        "id": "fzOLa-ed2GER"
      },
      "execution_count": 160,
      "outputs": []
    },
    {
      "cell_type": "markdown",
      "source": [
        "Find the percentage of missing values in each cell and sort values in descending order."
      ],
      "metadata": {
        "id": "uPLS-ydE2vsv"
      }
    },
    {
      "cell_type": "code",
      "source": [
        "#to find missing values in all columns go through all the columns and find the percentage.\n",
        "column_name = full_dataset.columns\n",
        "for name in column_name:\n",
        "  per = ((full_dataset[name].isnull().sum())/(full_dataset[name].shape[0])) * 100\n",
        "  print(name, ' = ', per)\n"
      ],
      "metadata": {
        "colab": {
          "base_uri": "https://localhost:8080/"
        },
        "id": "QwOFmM35OUr3",
        "outputId": "5148ed3f-0324-4ca9-9728-7bcbc573b4ec"
      },
      "execution_count": 161,
      "outputs": [
        {
          "output_type": "stream",
          "name": "stdout",
          "text": [
            "Survived  =  31.932773109243694\n",
            "Pclass  =  0.0\n",
            "Name  =  0.0\n",
            "Sex  =  0.0\n",
            "Age  =  20.091673032849503\n",
            "SibSp  =  0.0\n",
            "Parch  =  0.0\n",
            "Ticket  =  0.0\n",
            "Fare  =  0.07639419404125286\n",
            "Cabin  =  77.46371275783041\n",
            "Embarked  =  0.15278838808250572\n"
          ]
        }
      ]
    },
    {
      "cell_type": "markdown",
      "source": [
        "Fill the null values of age with its column mean. "
      ],
      "metadata": {
        "id": "-d9Mnd1I3PiB"
      }
    },
    {
      "cell_type": "code",
      "source": [
        "# Fill missing values in the 'Age' column of the 'full_dataset' DataFrame\n",
        "# with the mean value of the 'Age' column\n",
        "full_dataset['Age'].fillna(full_dataset['Age'].mean(), inplace=True)\n"
      ],
      "metadata": {
        "id": "9gpMcCmg2NeF"
      },
      "execution_count": 162,
      "outputs": []
    },
    {
      "cell_type": "code",
      "source": [
        "full_dataset.head()"
      ],
      "metadata": {
        "colab": {
          "base_uri": "https://localhost:8080/",
          "height": 206
        },
        "id": "ySl6lCCAjmS7",
        "outputId": "341a2d67-2c90-4c58-9b2e-b9cc65328581"
      },
      "execution_count": 163,
      "outputs": [
        {
          "output_type": "execute_result",
          "data": {
            "text/plain": [
              "   Survived  Pclass                                               Name  \\\n",
              "0       0.0       3                            Braund, Mr. Owen Harris   \n",
              "1       1.0       1  Cumings, Mrs. John Bradley (Florence Briggs Th...   \n",
              "2       1.0       3                             Heikkinen, Miss. Laina   \n",
              "3       1.0       1       Futrelle, Mrs. Jacques Heath (Lily May Peel)   \n",
              "4       0.0       3                           Allen, Mr. William Henry   \n",
              "\n",
              "      Sex   Age  SibSp  Parch            Ticket     Fare Cabin Embarked  \n",
              "0    male  22.0      1      0         A/5 21171   7.2500   NaN        S  \n",
              "1  female  38.0      1      0          PC 17599  71.2833   C85        C  \n",
              "2  female  26.0      0      0  STON/O2. 3101282   7.9250   NaN        S  \n",
              "3  female  35.0      1      0            113803  53.1000  C123        S  \n",
              "4    male  35.0      0      0            373450   8.0500   NaN        S  "
            ],
            "text/html": [
              "\n",
              "  <div id=\"df-51104145-9246-435c-81cd-673766d44c9e\">\n",
              "    <div class=\"colab-df-container\">\n",
              "      <div>\n",
              "<style scoped>\n",
              "    .dataframe tbody tr th:only-of-type {\n",
              "        vertical-align: middle;\n",
              "    }\n",
              "\n",
              "    .dataframe tbody tr th {\n",
              "        vertical-align: top;\n",
              "    }\n",
              "\n",
              "    .dataframe thead th {\n",
              "        text-align: right;\n",
              "    }\n",
              "</style>\n",
              "<table border=\"1\" class=\"dataframe\">\n",
              "  <thead>\n",
              "    <tr style=\"text-align: right;\">\n",
              "      <th></th>\n",
              "      <th>Survived</th>\n",
              "      <th>Pclass</th>\n",
              "      <th>Name</th>\n",
              "      <th>Sex</th>\n",
              "      <th>Age</th>\n",
              "      <th>SibSp</th>\n",
              "      <th>Parch</th>\n",
              "      <th>Ticket</th>\n",
              "      <th>Fare</th>\n",
              "      <th>Cabin</th>\n",
              "      <th>Embarked</th>\n",
              "    </tr>\n",
              "  </thead>\n",
              "  <tbody>\n",
              "    <tr>\n",
              "      <th>0</th>\n",
              "      <td>0.0</td>\n",
              "      <td>3</td>\n",
              "      <td>Braund, Mr. Owen Harris</td>\n",
              "      <td>male</td>\n",
              "      <td>22.0</td>\n",
              "      <td>1</td>\n",
              "      <td>0</td>\n",
              "      <td>A/5 21171</td>\n",
              "      <td>7.2500</td>\n",
              "      <td>NaN</td>\n",
              "      <td>S</td>\n",
              "    </tr>\n",
              "    <tr>\n",
              "      <th>1</th>\n",
              "      <td>1.0</td>\n",
              "      <td>1</td>\n",
              "      <td>Cumings, Mrs. John Bradley (Florence Briggs Th...</td>\n",
              "      <td>female</td>\n",
              "      <td>38.0</td>\n",
              "      <td>1</td>\n",
              "      <td>0</td>\n",
              "      <td>PC 17599</td>\n",
              "      <td>71.2833</td>\n",
              "      <td>C85</td>\n",
              "      <td>C</td>\n",
              "    </tr>\n",
              "    <tr>\n",
              "      <th>2</th>\n",
              "      <td>1.0</td>\n",
              "      <td>3</td>\n",
              "      <td>Heikkinen, Miss. Laina</td>\n",
              "      <td>female</td>\n",
              "      <td>26.0</td>\n",
              "      <td>0</td>\n",
              "      <td>0</td>\n",
              "      <td>STON/O2. 3101282</td>\n",
              "      <td>7.9250</td>\n",
              "      <td>NaN</td>\n",
              "      <td>S</td>\n",
              "    </tr>\n",
              "    <tr>\n",
              "      <th>3</th>\n",
              "      <td>1.0</td>\n",
              "      <td>1</td>\n",
              "      <td>Futrelle, Mrs. Jacques Heath (Lily May Peel)</td>\n",
              "      <td>female</td>\n",
              "      <td>35.0</td>\n",
              "      <td>1</td>\n",
              "      <td>0</td>\n",
              "      <td>113803</td>\n",
              "      <td>53.1000</td>\n",
              "      <td>C123</td>\n",
              "      <td>S</td>\n",
              "    </tr>\n",
              "    <tr>\n",
              "      <th>4</th>\n",
              "      <td>0.0</td>\n",
              "      <td>3</td>\n",
              "      <td>Allen, Mr. William Henry</td>\n",
              "      <td>male</td>\n",
              "      <td>35.0</td>\n",
              "      <td>0</td>\n",
              "      <td>0</td>\n",
              "      <td>373450</td>\n",
              "      <td>8.0500</td>\n",
              "      <td>NaN</td>\n",
              "      <td>S</td>\n",
              "    </tr>\n",
              "  </tbody>\n",
              "</table>\n",
              "</div>\n",
              "      <button class=\"colab-df-convert\" onclick=\"convertToInteractive('df-51104145-9246-435c-81cd-673766d44c9e')\"\n",
              "              title=\"Convert this dataframe to an interactive table.\"\n",
              "              style=\"display:none;\">\n",
              "        \n",
              "  <svg xmlns=\"http://www.w3.org/2000/svg\" height=\"24px\"viewBox=\"0 0 24 24\"\n",
              "       width=\"24px\">\n",
              "    <path d=\"M0 0h24v24H0V0z\" fill=\"none\"/>\n",
              "    <path d=\"M18.56 5.44l.94 2.06.94-2.06 2.06-.94-2.06-.94-.94-2.06-.94 2.06-2.06.94zm-11 1L8.5 8.5l.94-2.06 2.06-.94-2.06-.94L8.5 2.5l-.94 2.06-2.06.94zm10 10l.94 2.06.94-2.06 2.06-.94-2.06-.94-.94-2.06-.94 2.06-2.06.94z\"/><path d=\"M17.41 7.96l-1.37-1.37c-.4-.4-.92-.59-1.43-.59-.52 0-1.04.2-1.43.59L10.3 9.45l-7.72 7.72c-.78.78-.78 2.05 0 2.83L4 21.41c.39.39.9.59 1.41.59.51 0 1.02-.2 1.41-.59l7.78-7.78 2.81-2.81c.8-.78.8-2.07 0-2.86zM5.41 20L4 18.59l7.72-7.72 1.47 1.35L5.41 20z\"/>\n",
              "  </svg>\n",
              "      </button>\n",
              "      \n",
              "  <style>\n",
              "    .colab-df-container {\n",
              "      display:flex;\n",
              "      flex-wrap:wrap;\n",
              "      gap: 12px;\n",
              "    }\n",
              "\n",
              "    .colab-df-convert {\n",
              "      background-color: #E8F0FE;\n",
              "      border: none;\n",
              "      border-radius: 50%;\n",
              "      cursor: pointer;\n",
              "      display: none;\n",
              "      fill: #1967D2;\n",
              "      height: 32px;\n",
              "      padding: 0 0 0 0;\n",
              "      width: 32px;\n",
              "    }\n",
              "\n",
              "    .colab-df-convert:hover {\n",
              "      background-color: #E2EBFA;\n",
              "      box-shadow: 0px 1px 2px rgba(60, 64, 67, 0.3), 0px 1px 3px 1px rgba(60, 64, 67, 0.15);\n",
              "      fill: #174EA6;\n",
              "    }\n",
              "\n",
              "    [theme=dark] .colab-df-convert {\n",
              "      background-color: #3B4455;\n",
              "      fill: #D2E3FC;\n",
              "    }\n",
              "\n",
              "    [theme=dark] .colab-df-convert:hover {\n",
              "      background-color: #434B5C;\n",
              "      box-shadow: 0px 1px 3px 1px rgba(0, 0, 0, 0.15);\n",
              "      filter: drop-shadow(0px 1px 2px rgba(0, 0, 0, 0.3));\n",
              "      fill: #FFFFFF;\n",
              "    }\n",
              "  </style>\n",
              "\n",
              "      <script>\n",
              "        const buttonEl =\n",
              "          document.querySelector('#df-51104145-9246-435c-81cd-673766d44c9e button.colab-df-convert');\n",
              "        buttonEl.style.display =\n",
              "          google.colab.kernel.accessAllowed ? 'block' : 'none';\n",
              "\n",
              "        async function convertToInteractive(key) {\n",
              "          const element = document.querySelector('#df-51104145-9246-435c-81cd-673766d44c9e');\n",
              "          const dataTable =\n",
              "            await google.colab.kernel.invokeFunction('convertToInteractive',\n",
              "                                                     [key], {});\n",
              "          if (!dataTable) return;\n",
              "\n",
              "          const docLinkHtml = 'Like what you see? Visit the ' +\n",
              "            '<a target=\"_blank\" href=https://colab.research.google.com/notebooks/data_table.ipynb>data table notebook</a>'\n",
              "            + ' to learn more about interactive tables.';\n",
              "          element.innerHTML = '';\n",
              "          dataTable['output_type'] = 'display_data';\n",
              "          await google.colab.output.renderOutput(dataTable, element);\n",
              "          const docLink = document.createElement('div');\n",
              "          docLink.innerHTML = docLinkHtml;\n",
              "          element.appendChild(docLink);\n",
              "        }\n",
              "      </script>\n",
              "    </div>\n",
              "  </div>\n",
              "  "
            ]
          },
          "metadata": {},
          "execution_count": 163
        }
      ]
    },
    {
      "cell_type": "markdown",
      "source": [
        "#4. Feature Enginnering."
      ],
      "metadata": {
        "id": "pV1XMeTi3y-u"
      }
    },
    {
      "cell_type": "code",
      "source": [
        "# Retrieve the data types of each column in the 'full_dataset' DataFrame\n",
        "full_dataset.dtypes\n"
      ],
      "metadata": {
        "colab": {
          "base_uri": "https://localhost:8080/"
        },
        "id": "SLhCIhkYVgpq",
        "outputId": "47d712f1-dcfe-4ddc-ac8c-d8fd1540bdec"
      },
      "execution_count": 164,
      "outputs": [
        {
          "output_type": "execute_result",
          "data": {
            "text/plain": [
              "Survived    float64\n",
              "Pclass        int64\n",
              "Name         object\n",
              "Sex          object\n",
              "Age         float64\n",
              "SibSp         int64\n",
              "Parch         int64\n",
              "Ticket       object\n",
              "Fare        float64\n",
              "Cabin        object\n",
              "Embarked     object\n",
              "dtype: object"
            ]
          },
          "metadata": {},
          "execution_count": 164
        }
      ]
    },
    {
      "cell_type": "markdown",
      "source": [
        "The block of code stores user-defined functions for Feature Engineering \n",
        "First find out number of missing values in the dataset.\n"
      ],
      "metadata": {
        "id": "6iBJdP8VWuSG"
      }
    },
    {
      "cell_type": "code",
      "source": [
        "# Count the number of missing values in each column of the 'full_dataset' DataFrame\n",
        "full_dataset.isnull().sum()\n"
      ],
      "metadata": {
        "colab": {
          "base_uri": "https://localhost:8080/"
        },
        "id": "UlXGSQ2YWtl1",
        "outputId": "bda3afb0-7196-410d-c96b-b3f598a9439f"
      },
      "execution_count": 165,
      "outputs": [
        {
          "output_type": "execute_result",
          "data": {
            "text/plain": [
              "Survived     418\n",
              "Pclass         0\n",
              "Name           0\n",
              "Sex            0\n",
              "Age            0\n",
              "SibSp          0\n",
              "Parch          0\n",
              "Ticket         0\n",
              "Fare           1\n",
              "Cabin       1014\n",
              "Embarked       2\n",
              "dtype: int64"
            ]
          },
          "metadata": {},
          "execution_count": 165
        }
      ]
    },
    {
      "cell_type": "markdown",
      "source": [
        "Now we will remove null values from embarked column by filling the null values with most occuring embarked destination."
      ],
      "metadata": {
        "id": "UtSkvVJvXVcQ"
      }
    },
    {
      "cell_type": "code",
      "source": [
        "# Fill missing values in the 'Embarked' column of the 'full_dataset' DataFrame\n",
        "# with the most frequent value in the 'Embarked' column\n",
        "full_dataset['Embarked'] = full_dataset['Embarked'].fillna(full_dataset['Embarked'].value_counts().index[0])\n"
      ],
      "metadata": {
        "id": "6tbfuOzgo4JA"
      },
      "execution_count": 166,
      "outputs": []
    },
    {
      "cell_type": "code",
      "source": [
        "full_dataset.isnull().sum()"
      ],
      "metadata": {
        "colab": {
          "base_uri": "https://localhost:8080/"
        },
        "id": "RtKXNQWMpqd-",
        "outputId": "73a9b1ab-7e20-4bc0-8fa3-930714dea161"
      },
      "execution_count": 167,
      "outputs": [
        {
          "output_type": "execute_result",
          "data": {
            "text/plain": [
              "Survived     418\n",
              "Pclass         0\n",
              "Name           0\n",
              "Sex            0\n",
              "Age            0\n",
              "SibSp          0\n",
              "Parch          0\n",
              "Ticket         0\n",
              "Fare           1\n",
              "Cabin       1014\n",
              "Embarked       0\n",
              "dtype: int64"
            ]
          },
          "metadata": {},
          "execution_count": 167
        }
      ]
    },
    {
      "cell_type": "markdown",
      "source": [
        "Now as we have successfully removed all tthe null values from embarked we now can move in to the cabin column."
      ],
      "metadata": {
        "id": "8XXt5CQhp9vP"
      }
    },
    {
      "cell_type": "code",
      "source": [
        "full_dataset['Cabin'].unique()"
      ],
      "metadata": {
        "colab": {
          "base_uri": "https://localhost:8080/"
        },
        "id": "kAI1YpVNqOVB",
        "outputId": "0888b1aa-ca8b-4404-80d8-458a1020b2a7"
      },
      "execution_count": 168,
      "outputs": [
        {
          "output_type": "execute_result",
          "data": {
            "text/plain": [
              "array([nan, 'C85', 'C123', 'E46', 'G6', 'C103', 'D56', 'A6',\n",
              "       'C23 C25 C27', 'B78', 'D33', 'B30', 'C52', 'B28', 'C83', 'F33',\n",
              "       'F G73', 'E31', 'A5', 'D10 D12', 'D26', 'C110', 'B58 B60', 'E101',\n",
              "       'F E69', 'D47', 'B86', 'F2', 'C2', 'E33', 'B19', 'A7', 'C49', 'F4',\n",
              "       'A32', 'B4', 'B80', 'A31', 'D36', 'D15', 'C93', 'C78', 'D35',\n",
              "       'C87', 'B77', 'E67', 'B94', 'C125', 'C99', 'C118', 'D7', 'A19',\n",
              "       'B49', 'D', 'C22 C26', 'C106', 'C65', 'E36', 'C54',\n",
              "       'B57 B59 B63 B66', 'C7', 'E34', 'C32', 'B18', 'C124', 'C91', 'E40',\n",
              "       'T', 'C128', 'D37', 'B35', 'E50', 'C82', 'B96 B98', 'E10', 'E44',\n",
              "       'A34', 'C104', 'C111', 'C92', 'E38', 'D21', 'E12', 'E63', 'A14',\n",
              "       'B37', 'C30', 'D20', 'B79', 'E25', 'D46', 'B73', 'C95', 'B38',\n",
              "       'B39', 'B22', 'C86', 'C70', 'A16', 'C101', 'C68', 'A10', 'E68',\n",
              "       'B41', 'A20', 'D19', 'D50', 'D9', 'A23', 'B50', 'A26', 'D48',\n",
              "       'E58', 'C126', 'B71', 'B51 B53 B55', 'D49', 'B5', 'B20', 'F G63',\n",
              "       'C62 C64', 'E24', 'C90', 'C45', 'E8', 'B101', 'D45', 'C46', 'D30',\n",
              "       'E121', 'D11', 'E77', 'F38', 'B3', 'D6', 'B82 B84', 'D17', 'A36',\n",
              "       'B102', 'B69', 'E49', 'C47', 'D28', 'E17', 'A24', 'C50', 'B42',\n",
              "       'C148', 'B45', 'B36', 'A21', 'D34', 'A9', 'C31', 'B61', 'C53',\n",
              "       'D43', 'C130', 'C132', 'C55 C57', 'C116', 'F', 'A29', 'C6', 'C28',\n",
              "       'C51', 'C97', 'D22', 'B10', 'E45', 'E52', 'A11', 'B11', 'C80',\n",
              "       'C89', 'F E46', 'B26', 'F E57', 'A18', 'E60', 'E39 E41',\n",
              "       'B52 B54 B56', 'C39', 'B24', 'D40', 'D38', 'C105'], dtype=object)"
            ]
          },
          "metadata": {},
          "execution_count": 168
        }
      ]
    },
    {
      "cell_type": "code",
      "source": [
        "full_dataset['Cabin'] = full_dataset['Cabin'].fillna(full_dataset['Cabin'].value_counts().index[0])"
      ],
      "metadata": {
        "id": "Uf15BtZjqeSw"
      },
      "execution_count": 169,
      "outputs": []
    },
    {
      "cell_type": "code",
      "source": [
        "full_dataset.isnull().sum()"
      ],
      "metadata": {
        "colab": {
          "base_uri": "https://localhost:8080/"
        },
        "id": "TlEGk2Y6q4qm",
        "outputId": "c327b8d8-f2ba-434d-8128-e5e99873e1f5"
      },
      "execution_count": 170,
      "outputs": [
        {
          "output_type": "execute_result",
          "data": {
            "text/plain": [
              "Survived    418\n",
              "Pclass        0\n",
              "Name          0\n",
              "Sex           0\n",
              "Age           0\n",
              "SibSp         0\n",
              "Parch         0\n",
              "Ticket        0\n",
              "Fare          1\n",
              "Cabin         0\n",
              "Embarked      0\n",
              "dtype: int64"
            ]
          },
          "metadata": {},
          "execution_count": 170
        }
      ]
    },
    {
      "cell_type": "markdown",
      "source": [
        "Now for the fare part we will fill the average of the fare column in place of null values."
      ],
      "metadata": {
        "id": "nQrNZ6t5rE3G"
      }
    },
    {
      "cell_type": "code",
      "source": [
        "full_dataset['Fare'].fillna(full_dataset['Fare'].mean(), inplace = True)"
      ],
      "metadata": {
        "id": "CqAlyU6ksRr9"
      },
      "execution_count": 171,
      "outputs": []
    },
    {
      "cell_type": "code",
      "source": [
        "full_dataset.isnull().sum()"
      ],
      "metadata": {
        "colab": {
          "base_uri": "https://localhost:8080/"
        },
        "id": "dTIZCnV9sm2A",
        "outputId": "28d06673-92c3-4b5f-ab5c-a6dd1ce9d313"
      },
      "execution_count": 172,
      "outputs": [
        {
          "output_type": "execute_result",
          "data": {
            "text/plain": [
              "Survived    418\n",
              "Pclass        0\n",
              "Name          0\n",
              "Sex           0\n",
              "Age           0\n",
              "SibSp         0\n",
              "Parch         0\n",
              "Ticket        0\n",
              "Fare          0\n",
              "Cabin         0\n",
              "Embarked      0\n",
              "dtype: int64"
            ]
          },
          "metadata": {},
          "execution_count": 172
        }
      ]
    },
    {
      "cell_type": "markdown",
      "source": [
        "#Now the code is cleaned thoroughly, we can move forward to visualization part."
      ],
      "metadata": {
        "id": "-IfoFiFhtNs3"
      }
    },
    {
      "cell_type": "markdown",
      "source": [
        "#5. Visualization"
      ],
      "metadata": {
        "id": "Pbkk205etZyq"
      }
    },
    {
      "cell_type": "code",
      "source": [
        "# Define the labels for the bars\n",
        "bar_labels = ('Survived', 'Died')\n",
        "\n",
        "# Calculate the heights of the bars\n",
        "heights = (full_dataset['Survived'].sum(), 1309 - full_dataset['Survived'].sum())\n",
        "\n",
        "# Define the coordinates for the bars\n",
        "bar_coordinates = (1, 2)\n",
        "\n",
        "# Create a bar plot using the specified parameters\n",
        "plt.bar(bar_coordinates, heights, tick_label=bar_labels, width=0.7, color=['green', 'red'])\n",
        "\n",
        "# Set the label for the x-axis\n",
        "plt.xlabel('X-axis')\n",
        "\n",
        "# Set the label for the y-axis\n",
        "plt.ylabel('Y-axis')\n",
        "\n",
        "# Set the title for the plot\n",
        "plt.title(\"Survivability of full dataset\")\n",
        "\n",
        "# Display the plot\n",
        "plt.show()\n"
      ],
      "metadata": {
        "id": "TP38uYOotcqW",
        "colab": {
          "base_uri": "https://localhost:8080/",
          "height": 472
        },
        "outputId": "a51661d4-a3de-4bf8-c885-df66c4168e42"
      },
      "execution_count": 173,
      "outputs": [
        {
          "output_type": "display_data",
          "data": {
            "text/plain": [
              "<Figure size 640x480 with 1 Axes>"
            ],
            "image/png": "[encoded data removed]"
          },
          "metadata": {}
        }
      ]
    },
    {
      "cell_type": "code",
      "source": [
        "full_dataset['Survived'].unique()"
      ],
      "metadata": {
        "colab": {
          "base_uri": "https://localhost:8080/"
        },
        "id": "wgAv6D2ZUE9w",
        "outputId": "86c87f82-3c9f-4545-cf13-621dc56b3486"
      },
      "execution_count": 174,
      "outputs": [
        {
          "output_type": "execute_result",
          "data": {
            "text/plain": [
              "array([ 0.,  1., nan])"
            ]
          },
          "metadata": {},
          "execution_count": 174
        }
      ]
    },
    {
      "cell_type": "code",
      "source": [
        "import numpy as np\n",
        "import matplotlib.pyplot as plt\n",
        "\n",
        "# Create an array of two elements [0, 1]\n",
        "x = np.arange(2)\n",
        "\n",
        "# Initialize variables to count the number of survivors and deaths for women and men\n",
        "women_alive = 0\n",
        "women_dead = 0\n",
        "men_alive = 0\n",
        "men_dead = 0\n",
        "\n",
        "# Convert the 'Sex' and 'Survived' columns of the 'full_dataset' DataFrame to lists\n",
        "my_list = list(full_dataset['Sex'])\n",
        "my_list2 = list(full_dataset['Survived'])\n",
        "\n",
        "# Iterate through each gender in the lists and update the respective counters\n",
        "for gender in range(len(my_list)):\n",
        "    if my_list[gender] == 'female' and my_list2[gender] == 0.:\n",
        "        women_dead += 1\n",
        "    elif my_list[gender] == 'female' and my_list2[gender] == 1.:\n",
        "        women_alive += 1\n",
        "    elif my_list[gender] == 'male' and my_list2[gender] == 1.:\n",
        "        men_alive += 1\n",
        "    elif my_list[gender] == 'male' and my_list2[gender] == 0.:\n",
        "        men_dead += 1\n",
        "\n",
        "# Print the counts for women who died, men who died, women who survived, and men who survived\n",
        "print(women_dead)\n",
        "print(men_dead)\n",
        "print(women_alive)\n",
        "print(men_alive)\n",
        "\n",
        "# Create lists for the y-values of the bar plot\n",
        "y1 = [women_dead, women_alive]\n",
        "y2 = [men_dead, men_alive]\n",
        "\n",
        "# Plot the bar chart with two sets of bars side by side\n",
        "plt.bar(x-0.1, y1, 0.2)\n",
        "plt.bar(x+0.1, y2, 0.2)\n",
        "\n",
        "# Set the x-tick labels\n",
        "plt.xticks(x, ['Dead', 'Alive'])\n",
        "\n",
        "# Set the legend and labels for the plot\n",
        "plt.legend(['Women', 'Men'])\n",
        "plt.xlabel(\"Survivability\")\n",
        "plt.title(\"Gender-wise Survivability\")\n",
        "plt.ylabel(\"Count\")\n",
        "\n",
        "# Display the plot\n",
        "plt.show()\n"
      ],
      "metadata": {
        "id": "ZmTODYXYS0XE",
        "colab": {
          "base_uri": "https://localhost:8080/",
          "height": 541
        },
        "outputId": "b28d3bc2-f128-4450-c27e-b206fd2d61fb"
      },
      "execution_count": 175,
      "outputs": [
        {
          "output_type": "stream",
          "name": "stdout",
          "text": [
            "81\n",
            "468\n",
            "233\n",
            "109\n"
          ]
        },
        {
          "output_type": "display_data",
          "data": {
            "text/plain": [
              "<Figure size 640x480 with 1 Axes>"
            ],
            "image/png": "[encoded data removed]"
          },
          "metadata": {}
        }
      ]
    },
    {
      "cell_type": "code",
      "source": [
        "# Initialize variables to count the number of survivors and deaths for each passenger class\n",
        "class1_alive = 0\n",
        "class1_dead = 0\n",
        "class2_alive = 0\n",
        "class2_dead = 0\n",
        "class3_alive = 0\n",
        "class3_dead = 0\n",
        "\n",
        "# Convert the 'Pclass' column of the 'full_dataset' DataFrame to a list\n",
        "class_list = list(full_dataset['Pclass'])\n",
        "\n",
        "# Iterate through each passenger class in the list and update the respective counters\n",
        "for pasclass in range(len(class_list)):\n",
        "    if class_list[pasclass] == 1 and my_list2[pasclass] == 1.:\n",
        "        class1_alive += 1\n",
        "    elif class_list[pasclass] == 1 and my_list2[pasclass] == 0.:\n",
        "        class1_dead += 1\n",
        "    elif class_list[pasclass] == 2 and my_list2[pasclass] == 1.:\n",
        "        class2_alive += 1\n",
        "    elif class_list[pasclass] == 2 and my_list2[pasclass] == 0.:\n",
        "        class2_dead += 1\n",
        "    elif class_list[pasclass] == 3 and my_list2[pasclass] == 1.:\n",
        "        class3_alive += 1\n",
        "    elif class_list[pasclass] == 3 and my_list2[pasclass] == 0.:\n",
        "        class3_dead += 1\n",
        "\n",
        "# Print the counts of survivors and deaths for each passenger class\n",
        "print(class1_alive)\n",
        "print(class1_dead)\n",
        "print(class2_alive)\n",
        "print(class2_dead)\n",
        "print(class3_alive)\n",
        "print(class3_dead)\n",
        "\n",
        "# Define x-axis coordinates\n",
        "x = np.arange(2)\n",
        "\n",
        "# Define the counts for each passenger class and survival outcome\n",
        "y1 = [136, 80]   # [Alive in 1st class, Dead in 1st class]\n",
        "y2 = [87, 97]    # [Alive in 2nd class, Dead in 2nd class]\n",
        "y3 = [119, 372]  # [Alive in 3rd class, Dead in 3rd class]\n",
        "\n",
        "# Define the width of each bar\n",
        "width = 0.2\n",
        "\n",
        "# Plot the grouped bar chart\n",
        "plt.bar(x-0.2, y1, width, color='cyan')\n",
        "plt.bar(x, y2, width, color='orange')\n",
        "plt.bar(x+0.2, y3, width, color='green')\n",
        "\n",
        "# Set the title, x-axis and y-axis labels\n",
        "plt.title(\"Class-wise Survivability\")\n",
        "plt.xticks(x, ['Alive', 'Dead'])\n",
        "plt.xlabel(\"Class\")\n",
        "plt.ylabel(\"Count\")\n",
        "\n",
        "# Add a legend for each passenger class\n",
        "plt.legend(['1st Class', '2nd Class', '3rd Class'])\n",
        "\n",
        "# Display the plot\n",
        "plt.show()\n"
      ],
      "metadata": {
        "colab": {
          "base_uri": "https://localhost:8080/",
          "height": 576
        },
        "id": "zT-afsaAX7xt",
        "outputId": "d3a5132f-c062-4e08-a875-54ba36a7eb46"
      },
      "execution_count": 176,
      "outputs": [
        {
          "output_type": "stream",
          "name": "stdout",
          "text": [
            "136\n",
            "80\n",
            "87\n",
            "97\n",
            "119\n",
            "372\n"
          ]
        },
        {
          "output_type": "display_data",
          "data": {
            "text/plain": [
              "<Figure size 640x480 with 1 Axes>"
            ],
            "image/png": "[encoded data removed]"
          },
          "metadata": {}
        }
      ]
    },
    {
      "cell_type": "code",
      "source": [
        "# Initialize variables to count the number of survivors and deaths for each gender and passenger class\n",
        "female_1st_alive = 0\n",
        "female_1st_dead = 0\n",
        "female_2nd_alive = 0\n",
        "female_2nd_dead = 0\n",
        "female_3rd_alive = 0\n",
        "female_3rd_dead = 0\n",
        "\n",
        "male_1st_alive = 0\n",
        "male_1st_dead = 0\n",
        "male_2nd_alive = 0\n",
        "male_2nd_dead = 0\n",
        "male_3rd_alive = 0\n",
        "male_3rd_dead = 0\n",
        "\n",
        "# Iterate through each passenger class and gender\n",
        "for sxcls in range(len(class_list)):\n",
        "    # Count survivors and deaths for females in each passenger class\n",
        "    if class_list[sxcls] == 1 and my_list2[sxcls] == 1. and my_list[sxcls] == 'female':\n",
        "        female_1st_alive += 1\n",
        "    elif class_list[sxcls] == 1 and my_list2[sxcls] == 0. and my_list[sxcls] == 'female':\n",
        "        female_1st_dead += 1\n",
        "    elif class_list[sxcls] == 2 and my_list2[sxcls] == 1. and my_list[sxcls] == 'female':\n",
        "        female_2nd_alive += 1\n",
        "    elif class_list[sxcls] == 2 and my_list2[sxcls] == 0. and my_list[sxcls] == 'female':\n",
        "        female_2nd_dead += 1\n",
        "    elif class_list[sxcls] == 3 and my_list2[sxcls] == 1. and my_list[sxcls] == 'female':\n",
        "        female_3rd_alive += 1\n",
        "    elif class_list[sxcls] == 3 and my_list2[sxcls] == 0. and my_list[sxcls] == 'female':\n",
        "        female_3rd_dead += 1\n",
        "\n",
        "    # Count survivors and deaths for males in each passenger class\n",
        "    if class_list[sxcls] == 1 and my_list2[sxcls] == 1. and my_list[sxcls] == 'male':\n",
        "        male_1st_alive += 1\n",
        "    elif class_list[sxcls] == 1 and my_list2[sxcls] == 0. and my_list[sxcls] == 'male':\n",
        "        male_1st_dead += 1\n",
        "    elif class_list[sxcls] == 2 and my_list2[sxcls] == 1. and my_list[sxcls] == 'male':\n",
        "        male_2nd_alive += 1\n",
        "    elif class_list[sxcls] == 2 and my_list2[sxcls] == 0. and my_list[sxcls] == 'male':\n",
        "        male_2nd_dead += 1\n",
        "    elif class_list[sxcls] == 3 and my_list2[sxcls] == 1. and my_list[sxcls] == 'male':\n",
        "        male_3rd_alive += 1\n",
        "    elif class_list[sxcls] == 3 and my_list2[sxcls] == 0. and my_list[sxcls] == 'male':\n",
        "        male_3rd_dead += 1\n",
        "\n",
        "# Print the counts of survivors and deaths for each gender and passenger class\n",
        "print(female_1st_alive)\n",
        "print(female_1st_dead)\n",
        "print(female_2nd_alive)\n",
        "print(female_2nd_dead)\n",
        "print(female_3rd_alive)\n",
        "print(female_3rd_dead)\n",
        "print(male_1st_alive)\n",
        "print(male_1st_dead)\n",
        "print(male_2nd_alive)\n",
        "print(male_2nd_dead)\n",
        "print(male_3rd_alive)\n",
        "print(male_3rd_dead)\n",
        "\n",
        "# Define the data for each gender and passenger class\n",
        "female_1st_class = [female_1st_alive, female_1st_dead]\n",
        "male_1st_class = [male_1st_alive, male_1st_dead]\n",
        "\n",
        "female_2nd_class = [female_2nd_alive, female_2nd_dead]\n",
        "male_2nd_class = [male_2nd_alive, male_2nd_dead]\n",
        "\n",
        "female_3rd_class = [female_3rd_alive, female_3rd_dead]\n",
        "male_3rd_class = [male_3rd_alive, male_3rd_dead]\n",
        "\n",
        "# Plot the grouped bar chart for female survivability by class\n",
        "plt.bar(x-0.2, female_1st_class, width, color='cyan')\n",
        "plt.bar(x, female_2nd_class, width, color='orange')\n",
        "plt.bar(x+0.2, female_3rd_class, width, color='green')\n",
        "plt.xticks(x, ['Alive', 'Dead'])\n",
        "plt.xlabel(\"Class\")\n",
        "plt.ylabel(\"Count\")\n",
        "plt.legend(['1st Class', '2nd Class', '3rd Class'])\n",
        "plt.title(\"Gender and Class-wise Survivability of Females\")\n",
        "plt.show()\n",
        "\n",
        "# Plot the grouped bar chart for male survivability by class\n",
        "plt.bar(x-0.2, male_1st_class, width, color='cyan')\n",
        "plt.bar(x, male_2nd_class, width, color='orange')\n",
        "plt.bar(x+0.2, male_3rd_class, width, color='green')\n",
        "plt.xticks(x, ['Alive', 'Dead'])\n",
        "plt.xlabel(\"Class\")\n",
        "plt.ylabel(\"Count\")\n",
        "plt.legend(['1st Class', '2nd Class', '3rd Class'])\n",
        "plt.title(\"Gender and Class-wise Survivability of Males\")\n",
        "plt.show()\n"
      ],
      "metadata": {
        "colab": {
          "base_uri": "https://localhost:8080/",
          "height": 1000
        },
        "id": "kDkNjYV4-Jju",
        "outputId": "716195a4-e345-4e7d-c620-ea493903d56e"
      },
      "execution_count": 177,
      "outputs": [
        {
          "output_type": "stream",
          "name": "stdout",
          "text": [
            "91\n",
            "3\n",
            "70\n",
            "6\n",
            "72\n",
            "72\n",
            "45\n",
            "77\n",
            "17\n",
            "91\n",
            "47\n",
            "300\n"
          ]
        },
        {
          "output_type": "display_data",
          "data": {
            "text/plain": [
              "<Figure size 640x480 with 1 Axes>"
            ],
            "image/png": "[encoded data removed]"
          },
          "metadata": {}
        },
        {
          "output_type": "display_data",
          "data": {
            "text/plain": [
              "<Figure size 640x480 with 1 Axes>"
            ],
            "image/png": "[encoded data removed]"
          },
          "metadata": {}
        }
      ]
    },
    {
      "cell_type": "markdown",
      "source": [
        "#CODE FOR K-NEAREST NEIGHBOURS FOR GIVEN DATASET"
      ],
      "metadata": {
        "id": "meWgW129ORpE"
      }
    },
    {
      "cell_type": "markdown",
      "source": [
        "First split the datset into two parts for training and testing."
      ],
      "metadata": {
        "id": "oIF_S0ITOfGQ"
      }
    },
    {
      "cell_type": "code",
      "source": [
        "full_dataset.columns\n"
      ],
      "metadata": {
        "colab": {
          "base_uri": "https://localhost:8080/"
        },
        "id": "_3s7db-toz0t",
        "outputId": "3b44bdbb-f63c-49f0-b9e6-b2162c9dd850"
      },
      "execution_count": 178,
      "outputs": [
        {
          "output_type": "execute_result",
          "data": {
            "text/plain": [
              "Index(['Survived', 'Pclass', 'Name', 'Sex', 'Age', 'SibSp', 'Parch', 'Ticket',\n",
              "       'Fare', 'Cabin', 'Embarked'],\n",
              "      dtype='object')"
            ]
          },
          "metadata": {},
          "execution_count": 178
        }
      ]
    },
    {
      "cell_type": "code",
      "source": [
        "full_dataset.isnull().sum()"
      ],
      "metadata": {
        "colab": {
          "base_uri": "https://localhost:8080/"
        },
        "id": "1WKanVxaNU0F",
        "outputId": "68d796c3-7302-4f03-bb69-854d50212f95"
      },
      "execution_count": 179,
      "outputs": [
        {
          "output_type": "execute_result",
          "data": {
            "text/plain": [
              "Survived    418\n",
              "Pclass        0\n",
              "Name          0\n",
              "Sex           0\n",
              "Age           0\n",
              "SibSp         0\n",
              "Parch         0\n",
              "Ticket        0\n",
              "Fare          0\n",
              "Cabin         0\n",
              "Embarked      0\n",
              "dtype: int64"
            ]
          },
          "metadata": {},
          "execution_count": 179
        }
      ]
    },
    {
      "cell_type": "markdown",
      "source": [
        "#Initializing the Training and testing dataset"
      ],
      "metadata": {
        "id": "SOSfSIR-02Rh"
      }
    },
    {
      "cell_type": "code",
      "source": [
        "# Extract features from the full dataset for training\n",
        "x_train_full = full_dataset.drop(['Survived', 'Name', 'Ticket', 'Cabin', 'Embarked'], axis=1)\n",
        "\n",
        "# Map the 'Sex' column to numerical values: male -> 0, female -> 1\n",
        "x_train_full['Sex'] = x_train_full['Sex'].map({'male': 0, 'female': 1}).astype(int)\n",
        "\n",
        "# Convert the training features to a numpy array\n",
        "x_train = x_train_full[:891].values\n",
        "\n",
        "# Extract the target variable from the full dataset for training\n",
        "y_train_full = full_dataset['Survived']\n",
        "\n",
        "# Convert the training target variable to a numpy array\n",
        "y_train = y_train_full[:891].values\n",
        "\n",
        "# Extract features from the full dataset for testing\n",
        "x_test_full = full_dataset.drop(['Survived', 'Name', 'Ticket', 'Cabin', 'Embarked'], axis=1)\n",
        "\n",
        "# Map the 'Sex' column to numerical values: male -> 0, female -> 1\n",
        "x_test_full['Sex'] = x_test_full['Sex'].map({'male': 0, 'female': 1}).astype(int)\n",
        "\n",
        "# Convert the testing features to a numpy array\n",
        "x_test = x_test_full[891:].values\n",
        "\n",
        "# Extract the target variable from the full dataset for testing\n",
        "y_test_full = full_dataset['Survived']\n",
        "\n",
        "# Extract the testing target variable values from index 473 to 891\n",
        "y_test = y_test_full[473:891]\n"
      ],
      "metadata": {
        "id": "zaKtif_duFoH"
      },
      "execution_count": 180,
      "outputs": []
    },
    {
      "cell_type": "markdown",
      "source": [
        "Code for Euclidean Distance"
      ],
      "metadata": {
        "id": "I5gPuoDseEnB"
      }
    },
    {
      "cell_type": "code",
      "source": [
        "import numpy as np\n",
        "\n",
        "def euclidean_distance(x1, x2):\n",
        "    \"\"\"\n",
        "    Calculate the Euclidean distance between two points x1 and x2.\n",
        "\n",
        "    Parameters:\n",
        "        x1 (numpy.ndarray): First point.\n",
        "        x2 (numpy.ndarray): Second point.\n",
        "\n",
        "    Returns:\n",
        "        float: Euclidean distance between x1 and x2.\n",
        "    \"\"\"\n",
        "\n",
        "    # Calculate the squared differences between x1 and x2\n",
        "    squared_diff = (x1 - x2) ** 2\n",
        "    \n",
        "    # Sum up the squared differences\n",
        "    sum_squared_diff = np.sum(squared_diff)\n",
        "    \n",
        "    # Take the square root of the sum to get the Euclidean distance\n",
        "    distance = np.sqrt(sum_squared_diff)\n",
        "    \n",
        "    return distance\n"
      ],
      "metadata": {
        "id": "K5nVaWwffdPX"
      },
      "execution_count": 181,
      "outputs": []
    },
    {
      "cell_type": "markdown",
      "source": [
        "#KNN code block."
      ],
      "metadata": {
        "id": "eXG6UC9P1Enh"
      }
    },
    {
      "cell_type": "code",
      "source": [
        "class KNN:\n",
        "    def __init__(self, k=3):\n",
        "        \"\"\"\n",
        "        K-Nearest Neighbors classifier.\n",
        "\n",
        "        Parameters:\n",
        "            k (int): Number of neighbors to consider. Default is 3.\n",
        "        \"\"\"\n",
        "        self.k = k\n",
        "\n",
        "    def fit(self, X, y):\n",
        "        \"\"\"\n",
        "        Fit the KNN classifier to the training data.\n",
        "\n",
        "        Parameters:\n",
        "            X (numpy.ndarray): Training data features.\n",
        "            y (numpy.ndarray): Training data labels.\n",
        "        \"\"\"\n",
        "        self.x_train = X\n",
        "        self.y_train = y\n",
        "\n",
        "    def predict(self, X):\n",
        "        \"\"\"\n",
        "        Predict the labels for the given data samples.\n",
        "\n",
        "        Parameters:\n",
        "            X (numpy.ndarray): Data samples to predict labels for.\n",
        "\n",
        "        Returns:\n",
        "            numpy.ndarray: Predicted labels for the input data samples.\n",
        "        \"\"\"\n",
        "        y_pred = []\n",
        "        for sample in X:\n",
        "            # Calculate the distances between the current sample and all training samples\n",
        "            distances = [euclidean_distance(sample, x) for x in self.x_train]\n",
        "\n",
        "            # Get the indices of the k nearest neighbors\n",
        "            indices = np.argsort(distances)[:self.k]\n",
        "\n",
        "            # Get the labels of the k nearest neighbors\n",
        "            labels = [self.y_train[i] for i in indices]\n",
        "\n",
        "            # Predict the label based on majority voting\n",
        "            y_pred.append(max(set(labels), key=labels.count))\n",
        "\n",
        "        return np.array(y_pred)\n"
      ],
      "metadata": {
        "id": "wr7EWXJxeD5m"
      },
      "execution_count": 182,
      "outputs": []
    },
    {
      "cell_type": "markdown",
      "source": [
        "#Actual Values of Y"
      ],
      "metadata": {
        "id": "wdRoBa3U1Knj"
      }
    },
    {
      "cell_type": "code",
      "source": [
        "y_true = pd.read_csv('/content/gender_submission.csv')  # True labels from the test dataset\n",
        "y_true = y_true['Survived']"
      ],
      "metadata": {
        "id": "lBwDyOFDvma_"
      },
      "execution_count": 212,
      "outputs": []
    },
    {
      "cell_type": "markdown",
      "source": [
        "#Accuracy Calculator."
      ],
      "metadata": {
        "id": "OL0-vOht1PA5"
      }
    },
    {
      "cell_type": "code",
      "source": [
        "def calculate_accuracy(y_true, y_pred):\n",
        "    \"\"\"\n",
        "    Calculate the accuracy of predicted labels compared to true labels.\n",
        "\n",
        "    Parameters:\n",
        "        y_true (numpy.ndarray): True labels.\n",
        "        y_pred (numpy.ndarray): Predicted labels.\n",
        "\n",
        "    Returns:\n",
        "        float: Accuracy of predicted labels.\n",
        "    \"\"\"\n",
        "    correct = np.sum(y_true == y_pred)  # Count the number of correct predictions\n",
        "    total = len(y_true)  # Total number of predictions\n",
        "    accuracy = correct / total  # Calculate the accuracy\n",
        "    return accuracy\n"
      ],
      "metadata": {
        "id": "PhdGXC4Yg6XF"
      },
      "execution_count": 213,
      "outputs": []
    },
    {
      "cell_type": "markdown",
      "source": [
        "#KNN Function caller"
      ],
      "metadata": {
        "id": "Hg7Y8JUL1TeJ"
      }
    },
    {
      "cell_type": "code",
      "source": [
        "k_values = range(1, 11)\n",
        "accuracy_values = []\n",
        "\n",
        "for k in k_values:\n",
        "    knn = KNN(k=k)  # Create a KNN classifier with the current k value\n",
        "    knn.fit(x_train, y_train)  # Fit the classifier to the training data\n",
        "    y_pred = knn.predict(x_test)  # Predict labels for the test data\n",
        "    accuracy = calculate_accuracy(y_test, y_pred)  # Calculate accuracy using the predicted labels\n",
        "    accuracy_values.append(accuracy)  # Append the accuracy to the list of accuracy values\n"
      ],
      "metadata": {
        "id": "ile58mZ8fbNL"
      },
      "execution_count": 214,
      "outputs": []
    },
    {
      "cell_type": "markdown",
      "source": [
        "#Output of the model for k = 1 to k = 10"
      ],
      "metadata": {
        "id": "GUhYY5Is1W28"
      }
    },
    {
      "cell_type": "code",
      "source": [
        "plt.plot(k_values, accuracy_values, marker='o')  # Plotting the accuracy values against the k values\n",
        "plt.xlabel('k')  # Setting the label for the x-axis\n",
        "plt.ylabel('Accuracy')  # Setting the label for the y-axis\n",
        "plt.title('Accuracy of KNN for Different Values of k')  # Setting the title of the plot\n",
        "plt.xticks(k_values)  # Setting the x-axis ticks to match the k values\n",
        "plt.grid(True)  # Displaying grid lines on the plot\n",
        "plt.show()  # Displaying the plot\n"
      ],
      "metadata": {
        "colab": {
          "base_uri": "https://localhost:8080/",
          "height": 472
        },
        "id": "GW4ETVJ0w6II",
        "outputId": "88aa8490-2e81-43b7-909c-03eb0910aed6"
      },
      "execution_count": 215,
      "outputs": [
        {
          "output_type": "display_data",
          "data": {
            "text/plain": [
              "<Figure size 640x480 with 1 Axes>"
            ],
            "image/png": "[encoded data removed]"
          },
          "metadata": {}
        }
      ]
    },
    {
      "cell_type": "markdown",
      "source": [
        "File export to csv format of predicted values for kaggle competeition upload."
      ],
      "metadata": {
        "id": "CXGW5hlR1gs9"
      }
    },
    {
      "cell_type": "code",
      "source": [
        "np.savetxt(\"Survivability.csv\", \n",
        "           y_pred,\n",
        "           delimiter =\", \",  # Set the delimiter as a comma followed by a space\n",
        "           fmt ='% i')  # Set the format of the data as string"
      ],
      "metadata": {
        "id": "xCmcaecepX7a"
      },
      "execution_count": 207,
      "outputs": []
    },
    {
      "cell_type": "markdown",
      "source": [
        "The maximum accuracy is shown near k = 2 "
      ],
      "metadata": {
        "id": "1EitJaUBxAx4"
      }
    },
    {
      "cell_type": "markdown",
      "source": [
        "<img src = 'https://drive.google.com/uc?id=1Lv_WsyJSBF7eTsqEONjBAoM6Eb9sIQKO'>\n",
        "\n",
        "#As you can see that we have uploaded the same file which we have exported to local machine using the above given code block, the predictions show 66.028 % accuracy."
      ],
      "metadata": {
        "id": "MHwPkXwExKlX"
      }
    },
    {
      "cell_type": "markdown",
      "source": [
        "#NAIVE BAYES SCRATCH CODE FOR THE SAME DATASET."
      ],
      "metadata": {
        "id": "oISs21eNxigQ"
      }
    },
    {
      "cell_type": "markdown",
      "source": [
        "First import the dataset in fresh manner"
      ],
      "metadata": {
        "id": "K84idjqch-wN"
      }
    },
    {
      "cell_type": "code",
      "source": [
        "train_df = pd.read_csv('train.csv')\n",
        "test_df = pd.read_csv('test.csv')"
      ],
      "metadata": {
        "id": "elbbRUlQ3TKN"
      },
      "execution_count": 186,
      "outputs": []
    },
    {
      "cell_type": "markdown",
      "source": [
        "#We have used similar operations in this case also so as to feed fresh dataset and minimising any chances of error."
      ],
      "metadata": {
        "id": "P1eaKcFWyj76"
      }
    },
    {
      "cell_type": "code",
      "source": [
        "test_df.columns"
      ],
      "metadata": {
        "colab": {
          "base_uri": "https://localhost:8080/"
        },
        "id": "0BHhZpSKl8Ka",
        "outputId": "1541a0b1-1765-456d-91b0-b2ddf9b9f95b"
      },
      "execution_count": 187,
      "outputs": [
        {
          "output_type": "execute_result",
          "data": {
            "text/plain": [
              "Index(['PassengerId', 'Pclass', 'Name', 'Sex', 'Age', 'SibSp', 'Parch',\n",
              "       'Ticket', 'Fare', 'Cabin', 'Embarked'],\n",
              "      dtype='object')"
            ]
          },
          "metadata": {},
          "execution_count": 187
        }
      ]
    },
    {
      "cell_type": "markdown",
      "source": [
        "Then get the column names of training dataset."
      ],
      "metadata": {
        "id": "skVc7Um_iDQo"
      }
    },
    {
      "cell_type": "code",
      "source": [
        "train_df.columns"
      ],
      "metadata": {
        "colab": {
          "base_uri": "https://localhost:8080/"
        },
        "id": "j4s8XLraa8df",
        "outputId": "073a137f-79be-4013-c1c5-787a63d82127"
      },
      "execution_count": 188,
      "outputs": [
        {
          "output_type": "execute_result",
          "data": {
            "text/plain": [
              "Index(['PassengerId', 'Survived', 'Pclass', 'Name', 'Sex', 'Age', 'SibSp',\n",
              "       'Parch', 'Ticket', 'Fare', 'Cabin', 'Embarked'],\n",
              "      dtype='object')"
            ]
          },
          "metadata": {},
          "execution_count": 188
        }
      ]
    },
    {
      "cell_type": "markdown",
      "source": [
        "Removing redundant columns like name , ticket etc"
      ],
      "metadata": {
        "id": "YCBN2GdHiPRG"
      }
    },
    {
      "cell_type": "code",
      "source": [
        "# Remove unwanted columns from train dataset\n",
        "train_df = train_df.drop(['Name', 'Ticket', 'Fare', 'Cabin', 'Embarked'], axis=1)"
      ],
      "metadata": {
        "id": "vzEC7gVYa3Ug"
      },
      "execution_count": 189,
      "outputs": []
    },
    {
      "cell_type": "markdown",
      "source": [
        "Seperating the features."
      ],
      "metadata": {
        "id": "VRvAklvriWx2"
      }
    },
    {
      "cell_type": "code",
      "source": [
        "# Separate the features and target variable in the train dataset\n",
        "X_train = train_df.drop('Survived', axis=1)\n",
        "y_train = train_df['Survived']\n"
      ],
      "metadata": {
        "id": "vksjuPD-bI1t"
      },
      "execution_count": 190,
      "outputs": []
    },
    {
      "cell_type": "markdown",
      "source": [
        "Finding out the unique values"
      ],
      "metadata": {
        "id": "iqBnWR7jigPO"
      }
    },
    {
      "cell_type": "code",
      "source": [
        "X_train['Sex'].unique()"
      ],
      "metadata": {
        "colab": {
          "base_uri": "https://localhost:8080/"
        },
        "id": "RDuozhFZc6oq",
        "outputId": "c4b4718d-2678-4061-c413-2ed0f511a5ed"
      },
      "execution_count": 191,
      "outputs": [
        {
          "output_type": "execute_result",
          "data": {
            "text/plain": [
              "array(['male', 'female'], dtype=object)"
            ]
          },
          "metadata": {},
          "execution_count": 191
        }
      ]
    },
    {
      "cell_type": "markdown",
      "source": [
        "Replacing the values of gender with 0 and 1"
      ],
      "metadata": {
        "id": "sw6s7CzmikJo"
      }
    },
    {
      "cell_type": "code",
      "source": [
        "X_train['Sex'] = X_train['Sex'].replace(['male', 'female'],[0 , 1]).astype(int)\n",
        "\n"
      ],
      "metadata": {
        "colab": {
          "base_uri": "https://localhost:8080/",
          "height": 206
        },
        "id": "WxhyIO1Pb0yG",
        "outputId": "67e8f93d-f172-45a5-b4ff-9a013481374f"
      },
      "execution_count": 192,
      "outputs": [
        {
          "output_type": "execute_result",
          "data": {
            "text/plain": [
              "   Pclass  Sex   Age  SibSp  Parch\n",
              "0       3    0  22.0      1      0\n",
              "1       1    1  38.0      1      0\n",
              "2       3    1  26.0      0      0\n",
              "3       1    1  35.0      1      0\n",
              "4       3    0  35.0      0      0"
            ],
            "text/html": [
              "\n",
              "  <div id=\"df-c5f21189-95b8-4cca-ac38-9d8b027e498a\">\n",
              "    <div class=\"colab-df-container\">\n",
              "      <div>\n",
              "<style scoped>\n",
              "    .dataframe tbody tr th:only-of-type {\n",
              "        vertical-align: middle;\n",
              "    }\n",
              "\n",
              "    .dataframe tbody tr th {\n",
              "        vertical-align: top;\n",
              "    }\n",
              "\n",
              "    .dataframe thead th {\n",
              "        text-align: right;\n",
              "    }\n",
              "</style>\n",
              "<table border=\"1\" class=\"dataframe\">\n",
              "  <thead>\n",
              "    <tr style=\"text-align: right;\">\n",
              "      <th></th>\n",
              "      <th>Pclass</th>\n",
              "      <th>Sex</th>\n",
              "      <th>Age</th>\n",
              "      <th>SibSp</th>\n",
              "      <th>Parch</th>\n",
              "    </tr>\n",
              "  </thead>\n",
              "  <tbody>\n",
              "    <tr>\n",
              "      <th>0</th>\n",
              "      <td>3</td>\n",
              "      <td>0</td>\n",
              "      <td>22.0</td>\n",
              "      <td>1</td>\n",
              "      <td>0</td>\n",
              "    </tr>\n",
              "    <tr>\n",
              "      <th>1</th>\n",
              "      <td>1</td>\n",
              "      <td>1</td>\n",
              "      <td>38.0</td>\n",
              "      <td>1</td>\n",
              "      <td>0</td>\n",
              "    </tr>\n",
              "    <tr>\n",
              "      <th>2</th>\n",
              "      <td>3</td>\n",
              "      <td>1</td>\n",
              "      <td>26.0</td>\n",
              "      <td>0</td>\n",
              "      <td>0</td>\n",
              "    </tr>\n",
              "    <tr>\n",
              "      <th>3</th>\n",
              "      <td>1</td>\n",
              "      <td>1</td>\n",
              "      <td>35.0</td>\n",
              "      <td>1</td>\n",
              "      <td>0</td>\n",
              "    </tr>\n",
              "    <tr>\n",
              "      <th>4</th>\n",
              "      <td>3</td>\n",
              "      <td>0</td>\n",
              "      <td>35.0</td>\n",
              "      <td>0</td>\n",
              "      <td>0</td>\n",
              "    </tr>\n",
              "  </tbody>\n",
              "</table>\n",
              "</div>\n",
              "      <button class=\"colab-df-convert\" onclick=\"convertToInteractive('df-c5f21189-95b8-4cca-ac38-9d8b027e498a')\"\n",
              "              title=\"Convert this dataframe to an interactive table.\"\n",
              "              style=\"display:none;\">\n",
              "        \n",
              "  <svg xmlns=\"http://www.w3.org/2000/svg\" height=\"24px\"viewBox=\"0 0 24 24\"\n",
              "       width=\"24px\">\n",
              "    <path d=\"M0 0h24v24H0V0z\" fill=\"none\"/>\n",
              "    <path d=\"M18.56 5.44l.94 2.06.94-2.06 2.06-.94-2.06-.94-.94-2.06-.94 2.06-2.06.94zm-11 1L8.5 8.5l.94-2.06 2.06-.94-2.06-.94L8.5 2.5l-.94 2.06-2.06.94zm10 10l.94 2.06.94-2.06 2.06-.94-2.06-.94-.94-2.06-.94 2.06-2.06.94z\"/><path d=\"M17.41 7.96l-1.37-1.37c-.4-.4-.92-.59-1.43-.59-.52 0-1.04.2-1.43.59L10.3 9.45l-7.72 7.72c-.78.78-.78 2.05 0 2.83L4 21.41c.39.39.9.59 1.41.59.51 0 1.02-.2 1.41-.59l7.78-7.78 2.81-2.81c.8-.78.8-2.07 0-2.86zM5.41 20L4 18.59l7.72-7.72 1.47 1.35L5.41 20z\"/>\n",
              "  </svg>\n",
              "      </button>\n",
              "      \n",
              "  <style>\n",
              "    .colab-df-container {\n",
              "      display:flex;\n",
              "      flex-wrap:wrap;\n",
              "      gap: 12px;\n",
              "    }\n",
              "\n",
              "    .colab-df-convert {\n",
              "      background-color: #E8F0FE;\n",
              "      border: none;\n",
              "      border-radius: 50%;\n",
              "      cursor: pointer;\n",
              "      display: none;\n",
              "      fill: #1967D2;\n",
              "      height: 32px;\n",
              "      padding: 0 0 0 0;\n",
              "      width: 32px;\n",
              "    }\n",
              "\n",
              "    .colab-df-convert:hover {\n",
              "      background-color: #E2EBFA;\n",
              "      box-shadow: 0px 1px 2px rgba(60, 64, 67, 0.3), 0px 1px 3px 1px rgba(60, 64, 67, 0.15);\n",
              "      fill: #174EA6;\n",
              "    }\n",
              "\n",
              "    [theme=dark] .colab-df-convert {\n",
              "      background-color: #3B4455;\n",
              "      fill: #D2E3FC;\n",
              "    }\n",
              "\n",
              "    [theme=dark] .colab-df-convert:hover {\n",
              "      background-color: #434B5C;\n",
              "      box-shadow: 0px 1px 3px 1px rgba(0, 0, 0, 0.15);\n",
              "      filter: drop-shadow(0px 1px 2px rgba(0, 0, 0, 0.3));\n",
              "      fill: #FFFFFF;\n",
              "    }\n",
              "  </style>\n",
              "\n",
              "      <script>\n",
              "        const buttonEl =\n",
              "          document.querySelector('#df-c5f21189-95b8-4cca-ac38-9d8b027e498a button.colab-df-convert');\n",
              "        buttonEl.style.display =\n",
              "          google.colab.kernel.accessAllowed ? 'block' : 'none';\n",
              "\n",
              "        async function convertToInteractive(key) {\n",
              "          const element = document.querySelector('#df-c5f21189-95b8-4cca-ac38-9d8b027e498a');\n",
              "          const dataTable =\n",
              "            await google.colab.kernel.invokeFunction('convertToInteractive',\n",
              "                                                     [key], {});\n",
              "          if (!dataTable) return;\n",
              "\n",
              "          const docLinkHtml = 'Like what you see? Visit the ' +\n",
              "            '<a target=\"_blank\" href=https://colab.research.google.com/notebooks/data_table.ipynb>data table notebook</a>'\n",
              "            + ' to learn more about interactive tables.';\n",
              "          element.innerHTML = '';\n",
              "          dataTable['output_type'] = 'display_data';\n",
              "          await google.colab.output.renderOutput(dataTable, element);\n",
              "          const docLink = document.createElement('div');\n",
              "          docLink.innerHTML = docLinkHtml;\n",
              "          element.appendChild(docLink);\n",
              "        }\n",
              "      </script>\n",
              "    </div>\n",
              "  </div>\n",
              "  "
            ]
          },
          "metadata": {},
          "execution_count": 192
        }
      ]
    },
    {
      "cell_type": "markdown",
      "source": [
        "Initialize the training data"
      ],
      "metadata": {
        "id": "7gNKI5jR0TWg"
      }
    },
    {
      "cell_type": "code",
      "source": [
        "X_train = X_train.drop('PassengerId' , axis = 1)\n",
        "\n",
        "X_train.head()"
      ],
      "metadata": {
        "id": "Jy-LAuPM0SCJ"
      },
      "execution_count": null,
      "outputs": []
    },
    {
      "cell_type": "markdown",
      "source": [
        "Apply similar tactics for test dataset."
      ],
      "metadata": {
        "id": "DwE3ccKAi1wC"
      }
    },
    {
      "cell_type": "code",
      "source": [
        "test_df.columns"
      ],
      "metadata": {
        "colab": {
          "base_uri": "https://localhost:8080/"
        },
        "id": "3kPWw7WyjcgF",
        "outputId": "73a58983-2693-45c5-b10c-00e1a0458976"
      },
      "execution_count": 193,
      "outputs": [
        {
          "output_type": "execute_result",
          "data": {
            "text/plain": [
              "Index(['PassengerId', 'Pclass', 'Name', 'Sex', 'Age', 'SibSp', 'Parch',\n",
              "       'Ticket', 'Fare', 'Cabin', 'Embarked'],\n",
              "      dtype='object')"
            ]
          },
          "metadata": {},
          "execution_count": 193
        }
      ]
    },
    {
      "cell_type": "markdown",
      "source": [
        "Initialize a test dataset"
      ],
      "metadata": {
        "id": "ihB4XYcM0KW8"
      }
    },
    {
      "cell_type": "code",
      "source": [
        "# Extract the relevant columns from the test dataset\n",
        "X_test = test_df[['Pclass', 'Sex', 'Age', 'SibSp', 'Parch']].copy()\n",
        "\n",
        "# Print the column names of X_test\n",
        "print(\"Columns of X_test:\", X_test.columns)"
      ],
      "metadata": {
        "colab": {
          "base_uri": "https://localhost:8080/"
        },
        "id": "CoOuuZdIi8aI",
        "outputId": "0295cc38-c6c1-4099-a684-edf1be82db99"
      },
      "execution_count": 203,
      "outputs": [
        {
          "output_type": "execute_result",
          "data": {
            "text/plain": [
              "Index(['Pclass', 'Sex', 'Age', 'SibSp', 'Parch'], dtype='object')"
            ]
          },
          "metadata": {},
          "execution_count": 203
        }
      ]
    },
    {
      "cell_type": "code",
      "source": [
        "class NaiveBayes:\n",
        "    def __init__(self):\n",
        "        self.prior_probs = {}  # Stores the prior probabilities for each class\n",
        "        self.likelihoods = {}  # Stores the likelihoods for each feature and class\n",
        "    \n",
        "    def calculate_prior_probs(self, y):\n",
        "        # Calculate the prior probabilities for each class\n",
        "        unique_classes, class_counts = np.unique(y, return_counts=True)\n",
        "        total_samples = y.shape[0]\n",
        "        \n",
        "        for c in unique_classes:\n",
        "            self.prior_probs[c] = class_counts[c] / total_samples\n",
        "    \n",
        "    def calculate_likelihoods(self, X, y):\n",
        "        # Calculate the likelihoods for each feature and class\n",
        "        features = X.columns\n",
        "        \n",
        "        for feature in features:\n",
        "            unique_values = np.unique(X[feature])\n",
        "            self.likelihoods[feature] = {}\n",
        "            \n",
        "            for value in unique_values:\n",
        "                self.likelihoods[feature][value] = {}\n",
        "                \n",
        "                for c in self.prior_probs.keys():\n",
        "                    feature_class_subset = X[y == c][feature]\n",
        "                    value_count = feature_class_subset[feature_class_subset == value].shape[0]\n",
        "                    class_count = X[y == c].shape[0]\n",
        "                    self.likelihoods[feature][value][c] = value_count / class_count\n",
        "    \n",
        "    def predict(self, X):\n",
        "        # Make predictions for the test dataset\n",
        "        predictions = []\n",
        "        \n",
        "        for i in range(X.shape[0]):\n",
        "            probs = {}\n",
        "            \n",
        "            for c in self.prior_probs.keys():\n",
        "                prob = self.prior_probs[c]\n",
        "                \n",
        "                for feature in X.columns:\n",
        "                    value = X[feature].iloc[i]\n",
        "                    \n",
        "                    if value in self.likelihoods[feature].keys():\n",
        "                        prob *= self.likelihoods[feature][value][c]\n",
        "                \n",
        "                probs[c] = prob\n",
        "            \n",
        "            predicted_class = max(probs, key=probs.get)\n",
        "            predictions.append(predicted_class)\n",
        "        \n",
        "        return predictions\n"
      ],
      "metadata": {
        "id": "_eF94HQrxsaB"
      },
      "execution_count": 195,
      "outputs": []
    },
    {
      "cell_type": "code",
      "source": [
        "# Initialize and train the Naive Bayes model\n",
        "nb_model = NaiveBayes()\n",
        "nb_model.calculate_prior_probs(y_train)\n",
        "nb_model.calculate_likelihoods(X_train, y_train)"
      ],
      "metadata": {
        "id": "HDyCTBX2y9bS"
      },
      "execution_count": 200,
      "outputs": []
    },
    {
      "cell_type": "code",
      "source": [
        "# Make predictions on the test dataset\n",
        "predictions = nb_model.predict(X_test)\n",
        "\n",
        "# Print the predictions\n",
        "print(predictions)"
      ],
      "metadata": {
        "colab": {
          "base_uri": "https://localhost:8080/"
        },
        "id": "vCHJriVEbfmP",
        "outputId": "2ad3d0f0-3b83-4ca0-a581-0f82899f0709"
      },
      "execution_count": 204,
      "outputs": [
        {
          "output_type": "stream",
          "name": "stdout",
          "text": [
            "[0, 0, 1, 0, 1, 0, 0, 1, 0, 0, 0, 0, 1, 1, 0, 1, 1, 0, 1, 0, 1, 0, 1, 1, 1, 0, 1, 0, 0, 0, 1, 1, 1, 0, 1, 0, 0, 0, 0, 0, 0, 1, 0, 0, 1, 0, 1, 0, 1, 0, 1, 1, 0, 0, 0, 0, 0, 0, 0, 1, 0, 1, 0, 0, 1, 0, 0, 0, 1, 0, 0, 0, 0, 0, 1, 1, 0, 1, 0, 0, 1, 1, 1, 0, 0, 0, 0, 0, 0, 1, 0, 0, 1, 0, 0, 0, 1, 0, 0, 0, 1, 1, 0, 0, 1, 0, 0, 0, 0, 0, 0, 0, 1, 0, 1, 0, 0, 1, 1, 1, 1, 0, 1, 0, 0, 0, 0, 0, 0, 0, 0, 1, 0, 0, 0, 0, 0, 0, 0, 0, 0, 1, 0, 0, 1, 0, 1, 0, 1, 1, 1, 0, 0, 0, 1, 0, 1, 0, 1, 0, 0, 0, 0, 0, 0, 0, 1, 0, 1, 0, 0, 0, 0, 0, 0, 1, 0, 1, 1, 0, 0, 1, 1, 0, 1, 0, 0, 0, 0, 0, 1, 1, 1, 0, 1, 0, 1, 0, 0, 0, 0, 0, 0, 1, 0, 1, 0, 1, 1, 0, 0, 0, 0, 1, 0, 1, 0, 0, 1, 0, 1, 0, 0, 0, 1, 0, 0, 0, 0, 1, 1, 0, 0, 0, 1, 0, 0, 0, 1, 1, 1, 1, 1, 0, 0, 1, 0, 1, 1, 0, 1, 0, 1, 0, 0, 0, 0, 0, 0, 0, 0, 0, 1, 1, 0, 0, 1, 0, 0, 0, 0, 0, 1, 0, 0, 0, 0, 1, 1, 0, 0, 1, 0, 0, 0, 0, 0, 1, 0, 0, 1, 0, 0, 1, 0, 0, 1, 0, 1, 0, 0, 0, 0, 0, 0, 0, 1, 1, 1, 0, 0, 0, 0, 0, 1, 0, 0, 0, 0, 1, 0, 0, 0, 1, 1, 0, 1, 0, 1, 0, 1, 1, 0, 1, 0, 1, 1, 0, 0, 0, 0, 0, 0, 1, 1, 0, 0, 0, 1, 0, 1, 0, 0, 1, 0, 1, 0, 0, 0, 0, 0, 1, 0, 0, 1, 0, 0, 0, 1, 0, 0, 1, 1, 0, 1, 1, 0, 0, 1, 1, 0, 0, 0, 0, 0, 1, 0, 0, 0, 1, 0, 1, 1, 0, 0, 1, 0, 1, 0, 0, 1, 1, 1, 1, 1, 0, 1, 1, 0, 1, 0, 0, 0, 0, 1, 0, 0, 1]\n"
          ]
        }
      ]
    },
    {
      "cell_type": "code",
      "source": [
        "np.savetxt(\"Naive_Bayes_Survivability.csv\", \n",
        "           predictions,\n",
        "           delimiter =\", \",  # Set the delimiter as a comma followed by a space\n",
        "           fmt ='% i')  # Set the format of the data as string"
      ],
      "metadata": {
        "id": "mAlpWc7irOpR"
      },
      "execution_count": 208,
      "outputs": []
    },
    {
      "cell_type": "code",
      "source": [
        "def calculate_accuracy(y_true, y_pred):\n",
        "    # Calculate the accuracy of the predictions\n",
        "    correct_predictions = np.sum(y_true == y_pred)\n",
        "    total_predictions = len(y_true)\n",
        "    accuracy = correct_predictions / total_predictions\n",
        "    \n",
        "    return accuracy"
      ],
      "metadata": {
        "id": "mXU8SKpdu_UV"
      },
      "execution_count": 209,
      "outputs": []
    },
    {
      "cell_type": "code",
      "source": [
        "accuracy = calculate_accuracy(y_true, predictions)  # Calculate accuracy\n",
        "print(\"Accuracy:\", accuracy)"
      ],
      "metadata": {
        "colab": {
          "base_uri": "https://localhost:8080/"
        },
        "id": "EDo78Q84vCj3",
        "outputId": "45718176-1273-40e1-8ce1-72b66b37791b"
      },
      "execution_count": 216,
      "outputs": [
        {
          "output_type": "stream",
          "name": "stdout",
          "text": [
            "Accuracy: 0.6076555023923444\n"
          ]
        }
      ]
    },
    {
      "cell_type": "markdown",
      "source": [
        "<img src = 'https://drive.google.com/uc?id=1tjL-Z4RC72VTr8Ofvnfx9oauLVxE0d1S'>\n",
        "\n",
        "#As you can see we have uploaded the Output of Naive Bayes to the local titanic competeition, on there it shows an accuracy of 66.028% similar to K-Nearest Neighbours."
      ],
      "metadata": {
        "id": "z0cs5JLVxkHT"
      }
    },
    {
      "cell_type": "markdown",
      "source": [
        "<img src = ''>"
      ],
      "metadata": {
        "id": "Epi9sKjLvgAl"
      }
    }
  ]
}